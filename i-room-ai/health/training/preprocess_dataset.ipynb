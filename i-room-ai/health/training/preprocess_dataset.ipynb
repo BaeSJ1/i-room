{
 "cells": [
  {
   "cell_type": "code",
   "execution_count": 1,
   "id": "67cd7a7c",
   "metadata": {},
   "outputs": [
    {
     "name": "stdout",
     "output_type": "stream",
     "text": [
      "프로젝트 루트: c:\\Users\\minsu\\i-room-ai\n"
     ]
    }
   ],
   "source": [
    "# health_monitoring/training/preprocess_dataset.ipynb\n",
    "# PPG-DaLiA HR 추출 전처리\n",
    "import sys\n",
    "import os\n",
    "\n",
    "# 현재 ipynb 기준으로 두 단계 위 경로를 sys.path에 추가\n",
    "project_root = os.path.abspath(os.path.join(\"..\", \"..\"))\n",
    "if project_root not in sys.path:\n",
    "    sys.path.append(project_root)\n",
    "\n",
    "from health_monitoring.app.utils.preprocessing import load_features\n",
    "from pathlib import Path\n",
    "import numpy as np\n",
    "import pickle\n",
    "\n",
    "print(\"프로젝트 루트:\", project_root)"
   ]
  },
  {
   "cell_type": "code",
   "execution_count": 2,
   "id": "aeb8c057",
   "metadata": {},
   "outputs": [
    {
     "data": {
      "text/plain": [
       "WindowsPath('c:/Users/minsu/i-room-ai/health_monitoring/training')"
      ]
     },
     "execution_count": 2,
     "metadata": {},
     "output_type": "execute_result"
    }
   ],
   "source": [
    "Path.cwd()"
   ]
  },
  {
   "cell_type": "code",
   "execution_count": 3,
   "id": "f64131d1",
   "metadata": {},
   "outputs": [
    {
     "name": "stdout",
     "output_type": "stream",
     "text": [
      "원본 데이터 경로: C:\\Users\\minsu\\Desktop\\ppg+dalia\\data\\PPG_FieldStudy\n"
     ]
    }
   ],
   "source": [
    "# 데이터 경로\n",
    "data_root = Path(\"C:/Users/minsu/Desktop/ppg+dalia/data/PPG_FieldStudy\")\n",
    "\n",
    "print(\"원본 데이터 경로:\", data_root)"
   ]
  },
  {
   "cell_type": "code",
   "execution_count": 4,
   "id": "23ddca37",
   "metadata": {},
   "outputs": [
    {
     "name": "stdout",
     "output_type": "stream",
     "text": [
      "Top-level keys: dict_keys(['rpeaks', 'signal', 'label', 'activity', 'questionnaire', 'subject'])\n"
     ]
    }
   ],
   "source": [
    "# S1 피험자의 데이터 확인\n",
    "with open(data_root / \"S1\" / \"S1.pkl\", \"rb\") as f:\n",
    "\tdata = pickle.load(f, encoding=\"latin1\")\n",
    "\n",
    "# 전체 키 확인\n",
    "print(\"Top-level keys:\", data.keys())"
   ]
  },
  {
   "cell_type": "code",
   "execution_count": null,
   "id": "3e4e3579",
   "metadata": {},
   "outputs": [],
   "source": [
    "\"\"\"\n",
    "** S1.pkl 구조\n",
    "subject: 피험자 ID ('S1')\t\t\t\t> 데이터 식별용\n",
    "signal: 센서 신호 (wrist + chest)\t\t> 모델 입력, HR 추출\n",
    "rpeaks: ECG R-peak 인덱스 (64Hz 기준)\t\t> HR/HRV 계산\n",
    "label: ECG 기반 HR (8초 윈도우, 2초 shift)\t> 모델 학습용 ground truth\n",
    "activity: 활동 라벨 (0~8, 4Hz)\t\t\t\t> 구간 분할, 행동 분석\n",
    "questionnaire: 피험자 정보 (성별, 나이 등)\t> 분석 보조, 그룹 비교\n",
    "\"\"\""
   ]
  },
  {
   "cell_type": "code",
   "execution_count": null,
   "id": "eb04e299",
   "metadata": {},
   "outputs": [],
   "source": [
    "\"\"\"\n",
    "** Chest 센서 (signal['chest'])\n",
    "ACC: 가속도(움직임)  > 활동 감지\n",
    "ECG: 심전도\t\t\t> R-peak 감지, HRV 계산\n",
    "EMG: 근전도\t\t\t> 근육 활동 분석\n",
    "EDA: 피부 전도도\t> 스트레스 반응\n",
    "Temp: 피부 온도\t\t> 생리적 상태\n",
    "Resp: 호흡\t\t\t> 호흡률, 스트레스\n",
    "\"\"\""
   ]
  },
  {
   "cell_type": "code",
   "execution_count": 5,
   "id": "b5acadc0",
   "metadata": {},
   "outputs": [
    {
     "name": "stdout",
     "output_type": "stream",
     "text": [
      "Signal Keys (chest): dict_keys(['ACC', 'ECG', 'EMG', 'EDA', 'Temp', 'Resp'])\n",
      "Signal keys (wrist): dict_keys(['ACC', 'BVP', 'EDA', 'TEMP'])\n",
      "Other keys:\n",
      "label: type=<class 'numpy.ndarray'>, length=4603\n",
      "activity: type=<class 'numpy.ndarray'>, length=36848\n",
      "rpeaks: type=<class 'numpy.ndarray'>, length=11431\n",
      "questionnaire: type=<class 'dict'>, length=6\n"
     ]
    }
   ],
   "source": [
    "# 하위 구조 확인\n",
    "print(\"Signal Keys (chest):\", data['signal']['chest'].keys())\n",
    "print(\"Signal keys (wrist):\", data['signal']['wrist'].keys())\n",
    "print(\"Other keys:\")\n",
    "for key in ['label', 'activity', 'rpeaks', 'questionnaire']:\n",
    "    print(f\"{key}: type={type(data[key])}, length={len(data[key]) if hasattr(data[key], '__len__') else 'N/A'}\")"
   ]
  },
  {
   "cell_type": "code",
   "execution_count": null,
   "id": "90c0f921",
   "metadata": {},
   "outputs": [],
   "source": [
    "# BVP (Blood Volume Pulse) 신호: 손목 센서\n",
    "bvp = data['signal']['wrist']['BVP']\t# PPG 기반 심박 추출 가능\n",
    "\n",
    "# R-peaks: ECG에서 감지된 R-peak index (심장 박동 위치)\n",
    "rpeaks = data['rpeaks']\t# ECG sampling rate = 64Hz 기준 인덱스\n",
    "\n",
    "# Activity: 활동 라벨 (0~8), 4Hz 샘플링\n",
    "activity = data['activity']\n",
    "\n",
    "# Label: ECG 기반 HR (심박수), 8초 윈도우, 2초 shift\n",
    "labels = data['label']\t# 모델 학습용 ground truth\n",
    "\n",
    "# ECG 기반 HRV(Heart Rate Variability; 심박 변이도) 계산\n",
    "ibi = np.diff(rpeaks) / 64\t# IBI (Inter-Beat Interval) in seconds\n",
    "hr = 60 / ibi\t\t\t\t# HR (Heart Rate) in bpm\n",
    "sdnn = np.std(ibi)\t\t\t# SDNN: 표준편차 기반 HRV\n",
    "rmssd = np.sqrt(np.mean(np.square(np.diff(ibi))))\t# RMSSD: HRV의 민감한 지표"
   ]
  },
  {
   "cell_type": "code",
   "execution_count": null,
   "id": "ed5c9946",
   "metadata": {},
   "outputs": [],
   "source": [
    "# 사용할 참가자 ID\n",
    "subjects = [f\"S{i}\" for i in range(1, 16)]  # S1 ~ S15\n",
    "\n",
    "# 모든 참가자의 데이터를 담을 리스트\n",
    "all_windows = []\n",
    "\n",
    "for subject_id in subjects:\n",
    "    # 각 참가자의 데이터 경로\n",
    "    pkl_path = data_root / subject_id / f\"{subject_id}.pkl\"\n",
    "    \n",
    "    if not pkl_path.exists():\n",
    "        print(f\"[ERROR] {subject_id} 데이터 없음, 건너뜀\")\n",
    "        continue\n",
    "\n",
    "    print(f\"처리 중: {subject_id}\")\n",
    "\n",
    "    # HR + ACC + Activity 기반 feature 윈도우 생성\n",
    "    features = load_features(pkl_path, window_size=30, step=1)\n",
    "\n",
    "    all_windows.append(features) # 리스트에 저장\n",
    "\n",
    "# 전체 데이터 합치기\n",
    "all_windows = np.vstack(all_windows)\n",
    "print(\"전체 윈도우 shape:\", all_windows.shape)\n",
    "\n",
    "# 저장\n",
    "np.save(output_path, all_windows)\n",
    "print(f\"저장 완료: {output_path}\")"
   ]
  }
 ],
 "metadata": {
  "kernelspec": {
   "display_name": ".venv",
   "language": "python",
   "name": "python3"
  },
  "language_info": {
   "codemirror_mode": {
    "name": "ipython",
    "version": 3
   },
   "file_extension": ".py",
   "mimetype": "text/x-python",
   "name": "python",
   "nbconvert_exporter": "python",
   "pygments_lexer": "ipython3",
   "version": "3.10.8"
  }
 },
 "nbformat": 4,
 "nbformat_minor": 5
}
