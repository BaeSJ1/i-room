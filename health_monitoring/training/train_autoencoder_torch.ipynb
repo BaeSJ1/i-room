{
 "cells": [
  {
   "cell_type": "code",
   "execution_count": 17,
   "id": "ad94937a",
   "metadata": {},
   "outputs": [
    {
     "name": "stdout",
     "output_type": "stream",
     "text": [
      "True\n",
      "1\n",
      "NVIDIA GeForce RTX 3060\n"
     ]
    }
   ],
   "source": [
    "# health_monitoring/training/train_autoencoder_torch.ipynb\n",
    "# PPG-DaLiA 데이터 사용\n",
    "# PyTorch Autoencoder 학습 파이프라인\n",
    "import torch\n",
    "import torch.nn as nn\n",
    "from torch.utils.data import DataLoader, TensorDataset, random_split\n",
    "from pathlib import Path\n",
    "import numpy as np\n",
    "import matplotlib.pyplot as plt\n",
    "import os\n",
    "\n",
    "print(torch.cuda.is_available())\n",
    "print(torch.cuda.device_count())\n",
    "print(torch.cuda.get_device_name())"
   ]
  },
  {
   "cell_type": "code",
   "execution_count": 2,
   "id": "c439bbc4",
   "metadata": {},
   "outputs": [
    {
     "name": "stdout",
     "output_type": "stream",
     "text": [
      "루트 경로: c:\\Users\\minsu\\i-room-ai\\health_monitoring\n"
     ]
    }
   ],
   "source": [
    "# 루트 경로\n",
    "cwd = Path(os.getcwd())\n",
    "ROOT_DIR = cwd.parent\n",
    "\n",
    "print(\"루트 경로:\", ROOT_DIR)\n",
    "\n",
    "# 데이터 로드\n",
    "data_path = ROOT_DIR / \"training\" / \"all_windows.npy\"\n",
    "windows = np.load(data_path)"
   ]
  },
  {
   "cell_type": "code",
   "execution_count": 3,
   "id": "3383ed14",
   "metadata": {},
   "outputs": [],
   "source": [
    "# Normalize 0~1\n",
    "windows = (windows - windows.min()) / (windows.max() - windows.min())\n",
    "windows = windows.astype(np.float32)\n",
    "\n",
    "# Torch tensor\n",
    "data_tensor = torch.tensor(windows)\n",
    "dataset = TensorDataset(data_tensor)"
   ]
  },
  {
   "cell_type": "code",
   "execution_count": 4,
   "id": "0aa877da",
   "metadata": {},
   "outputs": [],
   "source": [
    "# Train/val split\n",
    "train_size = int(len(dataset) * 0.8)\n",
    "val_size = len(dataset) - train_size\n",
    "train_ds, val_ds = random_split(dataset, [train_size, val_size])\n",
    "\n",
    "train_loader = DataLoader(train_ds, batch_size=64, shuffle=True)\n",
    "val_loader = DataLoader(val_ds, batch_size=64)"
   ]
  },
  {
   "cell_type": "code",
   "execution_count": 5,
   "id": "b9c0e24a",
   "metadata": {},
   "outputs": [
    {
     "name": "stdout",
     "output_type": "stream",
     "text": [
      "Device: cuda\n"
     ]
    }
   ],
   "source": [
    "device = torch.device(\"cuda\" if torch.cuda.is_available() else \"cpu\")\n",
    "print(\"Device:\", device)"
   ]
  },
  {
   "cell_type": "code",
   "execution_count": 13,
   "id": "d88e3fc1",
   "metadata": {},
   "outputs": [],
   "source": [
    "# Autoencoder 모델 정의\n",
    "class Autoencoder(nn.Module):\n",
    "    def __init__(self, input_dim=30):\n",
    "        super().__init__()\n",
    "        self.encoder = nn.Sequential(\n",
    "            nn.Linear(input_dim, 16),\n",
    "            nn.ReLU(),\n",
    "            nn.Linear(16, 8),\n",
    "            nn.ReLU(),\n",
    "        )\n",
    "        self.decoder = nn.Sequential(\n",
    "            nn.Linear(8, 16),\n",
    "            nn.ReLU(),\n",
    "            nn.Linear(16, input_dim),\n",
    "        )\n",
    "\n",
    "    def forward(self, x):\n",
    "        z = self.encoder(x)\n",
    "        out = self.decoder(z)\n",
    "        return out\n",
    "    \n",
    "model = Autoencoder(input_dim=30).to(device)\n",
    "criterion = nn.MSELoss()\n",
    "optimizer = torch.optim.Adam(model.parameters(), lr=1e-3)"
   ]
  },
  {
   "cell_type": "code",
   "execution_count": 14,
   "id": "34750a1a",
   "metadata": {},
   "outputs": [
    {
     "name": "stdout",
     "output_type": "stream",
     "text": [
      "Epoch 1/30 - Train: 0.010031, Val: 0.001042\n",
      "Epoch 2/30 - Train: 0.000700, Val: 0.000584\n",
      "Epoch 3/30 - Train: 0.000572, Val: 0.000570\n",
      "Epoch 4/30 - Train: 0.000534, Val: 0.000488\n",
      "Epoch 5/30 - Train: 0.000438, Val: 0.000419\n",
      "Epoch 6/30 - Train: 0.000400, Val: 0.000393\n",
      "Epoch 7/30 - Train: 0.000373, Val: 0.000361\n",
      "Epoch 8/30 - Train: 0.000337, Val: 0.000347\n",
      "Epoch 9/30 - Train: 0.000315, Val: 0.000313\n",
      "Epoch 10/30 - Train: 0.000299, Val: 0.000291\n",
      "Epoch 11/30 - Train: 0.000277, Val: 0.000266\n",
      "Epoch 12/30 - Train: 0.000257, Val: 0.000249\n",
      "Epoch 13/30 - Train: 0.000245, Val: 0.000240\n",
      "Epoch 14/30 - Train: 0.000238, Val: 0.000241\n",
      "Epoch 15/30 - Train: 0.000233, Val: 0.000231\n",
      "Epoch 16/30 - Train: 0.000230, Val: 0.000229\n",
      "Epoch 17/30 - Train: 0.000228, Val: 0.000228\n",
      "Epoch 18/30 - Train: 0.000227, Val: 0.000227\n",
      "Epoch 19/30 - Train: 0.000227, Val: 0.000230\n",
      "Epoch 20/30 - Train: 0.000226, Val: 0.000228\n",
      "Epoch 21/30 - Train: 0.000226, Val: 0.000228\n",
      "Epoch 22/30 - Train: 0.000226, Val: 0.000228\n",
      "Epoch 23/30 - Train: 0.000226, Val: 0.000228\n",
      "Epoch 24/30 - Train: 0.000226, Val: 0.000227\n",
      "Epoch 25/30 - Train: 0.000226, Val: 0.000227\n",
      "Epoch 26/30 - Train: 0.000226, Val: 0.000226\n",
      "Epoch 27/30 - Train: 0.000226, Val: 0.000229\n",
      "Epoch 28/30 - Train: 0.000226, Val: 0.000228\n",
      "Epoch 29/30 - Train: 0.000226, Val: 0.000229\n",
      "Epoch 30/30 - Train: 0.000226, Val: 0.000230\n"
     ]
    }
   ],
   "source": [
    "# 학습\n",
    "epochs = 30\n",
    "train_losses, val_losses = [], []\n",
    "\n",
    "for epoch in range(epochs):\n",
    "    model.train()\n",
    "    train_loss = 0\n",
    "    for (batch,) in train_loader:\n",
    "        batch = batch.to(device)\n",
    "        optimizer.zero_grad()\n",
    "        output = model(batch)\n",
    "        loss = criterion(output, batch)\n",
    "        loss.backward()\n",
    "        optimizer.step()\n",
    "        train_loss += loss.item() * batch.size(0)\n",
    "\n",
    "    model.eval()\n",
    "    val_loss = 0\n",
    "    with torch.no_grad():\n",
    "        for (batch,) in val_loader:\n",
    "            batch = batch.to(device)\n",
    "            output = model(batch)\n",
    "            loss = criterion(output, batch)\n",
    "            val_loss += loss.item() * batch.size(0)\n",
    "\n",
    "    train_loss /= len(train_loader.dataset)\n",
    "    val_loss /= len(val_loader.dataset)\n",
    "    train_losses.append(train_loss)\n",
    "    val_losses.append(val_loss)\n",
    "\n",
    "    print(f\"Epoch {epoch+1}/{epochs} - Train: {train_loss:.6f}, Val: {val_loss:.6f}\")"
   ]
  },
  {
   "cell_type": "code",
   "execution_count": 15,
   "id": "94838700",
   "metadata": {},
   "outputs": [
    {
     "data": {
      "image/png": "[encoded data removed]",
      "text/plain": [
       "<Figure size 640x480 with 1 Axes>"
      ]
     },
     "metadata": {},
     "output_type": "display_data"
    }
   ],
   "source": [
    "# 학습 곡선\n",
    "plt.plot(train_losses, label='Train Loss')\n",
    "plt.plot(val_losses, label='Val Loss')\n",
    "plt.legend()\n",
    "plt.xlabel('Epoch')\n",
    "plt.ylabel('MSE Loss')\n",
    "plt.title('PyTorch Autoencoder')\n",
    "plt.show()"
   ]
  },
  {
   "cell_type": "code",
   "execution_count": 16,
   "id": "bf8e7ee6",
   "metadata": {},
   "outputs": [
    {
     "name": "stdout",
     "output_type": "stream",
     "text": [
      "모델 저장 완료: c:\\Users\\minsu\\i-room-ai\\health_monitoring\\app\\models\\autoencoder_model.pt\n",
      "Threshold: 0.0010473036\n"
     ]
    }
   ],
   "source": [
    "# 모델 & Threshold 저장\n",
    "model_path = ROOT_DIR / \"app\" / \"models\" / \"autoencoder_model.pt\"\n",
    "torch.save(model.state_dict(), model_path)\n",
    "print(\"모델 저장 완료:\", model_path)\n",
    "\n",
    "# Reconstruction error (Val set)\n",
    "model.eval()\n",
    "recon_errors = []\n",
    "with torch.no_grad():\n",
    "    for (batch,) in val_loader:\n",
    "        batch = batch.to(device)\n",
    "        output = model(batch)\n",
    "        loss = torch.mean((batch - output) ** 2, dim=1)\n",
    "        recon_errors.extend(loss.cpu().numpy())\n",
    "\n",
    "recon_errors = np.array(recon_errors)\n",
    "threshold = recon_errors.mean() + 3 * recon_errors.std()\n",
    "np.save(ROOT_DIR / \"app\" / \"models\" / \"threshold.npy\", threshold)\n",
    "print(\"Threshold:\", threshold)"
   ]
  }
 ],
 "metadata": {
  "kernelspec": {
   "display_name": ".venv",
   "language": "python",
   "name": "python3"
  },
  "language_info": {
   "codemirror_mode": {
    "name": "ipython",
    "version": 3
   },
   "file_extension": ".py",
   "mimetype": "text/x-python",
   "name": "python",
   "nbconvert_exporter": "python",
   "pygments_lexer": "ipython3",
   "version": "3.10.8"
  }
 },
 "nbformat": 4,
 "nbformat_minor": 5
}
