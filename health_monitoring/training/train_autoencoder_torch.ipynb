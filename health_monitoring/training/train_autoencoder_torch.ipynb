{
 "cells": [
  {
   "cell_type": "code",
   "execution_count": 1,
   "id": "ad94937a",
   "metadata": {},
   "outputs": [
    {
     "name": "stdout",
     "output_type": "stream",
     "text": [
      "True\n",
      "1\n"
     ]
    }
   ],
   "source": [
    "# health_monitoring/training/train_autoencoder_torch.ipynb\n",
    "# PPG-DaLiA 데이터 사용\n",
    "# PyTorch Autoencoder 학습 파이프라인\n",
    "import torch\n",
    "import torch.nn as nn\n",
    "from torch.utils.data import DataLoader, TensorDataset, random_split\n",
    "from pathlib import Path\n",
    "import numpy as np\n",
    "import matplotlib.pyplot as plt\n",
    "import os\n",
    "\n",
    "print(torch.cuda.is_available())\n",
    "print(torch.cuda.device_count())"
   ]
  },
  {
   "cell_type": "code",
   "execution_count": 2,
   "id": "c439bbc4",
   "metadata": {},
   "outputs": [
    {
     "name": "stdout",
     "output_type": "stream",
     "text": [
      "루트 경로: c:\\Users\\minsu\\i-room-ai\\health_monitoring\n"
     ]
    }
   ],
   "source": [
    "# 루트 경로\n",
    "cwd = Path(os.getcwd())\n",
    "ROOT_DIR = cwd.parent\n",
    "\n",
    "print(\"루트 경로:\", ROOT_DIR)\n",
    "\n",
    "# 데이터 로드\n",
    "data_path = ROOT_DIR / \"training\" / \"all_windows.npy\"\n",
    "windows = np.load(data_path)"
   ]
  },
  {
   "cell_type": "code",
   "execution_count": 3,
   "id": "3383ed14",
   "metadata": {},
   "outputs": [],
   "source": [
    "# Normalize 0~1\n",
    "windows = (windows - windows.min()) / (windows.max() - windows.min())\n",
    "windows = windows.astype(np.float32)\n",
    "\n",
    "# Torch tensor\n",
    "data_tensor = torch.tensor(windows)\n",
    "dataset = TensorDataset(data_tensor)"
   ]
  },
  {
   "cell_type": "code",
   "execution_count": 4,
   "id": "0aa877da",
   "metadata": {},
   "outputs": [],
   "source": [
    "# Train/val split\n",
    "train_size = int(len(dataset) * 0.8)\n",
    "val_size = len(dataset) - train_size\n",
    "train_ds, val_ds = random_split(dataset, [train_size, val_size])\n",
    "\n",
    "train_loader = DataLoader(train_ds, batch_size=64, shuffle=True)\n",
    "val_loader = DataLoader(val_ds, batch_size=64)"
   ]
  },
  {
   "cell_type": "code",
   "execution_count": 5,
   "id": "b9c0e24a",
   "metadata": {},
   "outputs": [
    {
     "name": "stdout",
     "output_type": "stream",
     "text": [
      "Device: cuda\n"
     ]
    }
   ],
   "source": [
    "device = torch.device(\"cuda\" if torch.cuda.is_available() else \"cpu\")\n",
    "print(\"Device:\", device)"
   ]
  }
 ],
 "metadata": {
  "kernelspec": {
   "display_name": ".venv",
   "language": "python",
   "name": "python3"
  },
  "language_info": {
   "codemirror_mode": {
    "name": "ipython",
    "version": 3
   },
   "file_extension": ".py",
   "mimetype": "text/x-python",
   "name": "python",
   "nbconvert_exporter": "python",
   "pygments_lexer": "ipython3",
   "version": "3.10.8"
  }
 },
 "nbformat": 4,
 "nbformat_minor": 5
}
